{
 "cells": [
  {
   "cell_type": "markdown",
   "metadata": {},
   "source": [
    "# Método de puntos interiores"
   ]
  },
  {
   "cell_type": "code",
   "execution_count": 39,
   "metadata": {},
   "outputs": [],
   "source": [
    "import numpy as np"
   ]
  },
  {
   "cell_type": "code",
   "execution_count": 40,
   "metadata": {},
   "outputs": [],
   "source": [
    "n = 8\n",
    "m = 4\n",
    "p = 10\n",
    "\n",
    "# Matriz simétrica def. pos. aleatoria\n",
    "Q = np.random.rand(n,n)\n",
    "Q = np.tril(Q)\n",
    "Q = np.dot(Q, Q.T)\n",
    "\n",
    "A = np.random.rand(m,n)\n",
    "b = np.ones(m)\n",
    "F = np.random.rand(p,n)\n",
    "d = np.random.rand(p)\n",
    "c = np.ones(n)\n"
   ]
  },
  {
   "cell_type": "code",
   "execution_count": 41,
   "metadata": {},
   "outputs": [],
   "source": [
    "# Variables iniciales\n",
    "x = np.ones(n)\n",
    "y = np.ones(m) # es la lambda\n",
    "mu = np.ones(p)\n",
    "z = np.ones(p)"
   ]
  },
  {
   "cell_type": "code",
   "execution_count": 47,
   "metadata": {},
   "outputs": [],
   "source": [
    "# Guardamos los vectores para luego concatenar\n",
    "tau = 1/2 # Queremos que tau->0, pero tau!=0 porque el método de Newton se porta mejor así.\n",
    "v1 = np.dot(Q,x) + c + np.dot(A.T, y) - np.dot(F.T, mu)\n",
    "v2 = np.dot(A,x) - b\n",
    "v3 = -np.dot(F,x) + z + d\n",
    "v4 = np.multiply(mu,z) - tau*np.ones(p) # multiplicación elemento a elemento.\n",
    "ld = np.concatenate((v1,v2,v3,v4))"
   ]
  },
  {
   "cell_type": "code",
   "execution_count": 48,
   "metadata": {},
   "outputs": [],
   "source": [
    "# Matriz de Newton\n",
    "dim = n + m + 2*p\n",
    "M = np.zeros((dim,dim))\n",
    "M[0:n, 0:n] = Q\n",
    "M[0:n, n:n+m] = A.T\n",
    "M[0:n, n+m:n+m+p] = -F.T\n",
    "M[n:n+m, 0:n] = A\n",
    "M[n+m:n+m+p, 0:n] = -F\n",
    "M[n+m:n+m+p, n+m+p:n+m+p+p] = np.eye(p)\n",
    "M[n+m+p:dim, n+m:n+m+p] = np.diag(z)\n",
    "M[n+m+p:dim, n+m+p:dim] = np.diag(mu)\n"
   ]
  },
  {
   "cell_type": "code",
   "execution_count": 49,
   "metadata": {},
   "outputs": [
    {
     "data": {
      "text/plain": [
       "9.118622090496098"
      ]
     },
     "execution_count": 49,
     "metadata": {},
     "output_type": "execute_result"
    }
   ],
   "source": [
    "dd = np.linalg.det(M)\n",
    "dd"
   ]
  },
  {
   "cell_type": "code",
   "execution_count": 45,
   "metadata": {},
   "outputs": [],
   "source": [
    "# Solución del sistema lineal\n",
    "dw = np.linalg.solve(M,-ld) \n",
    "dx = dw[0:n]\n",
    "dy = dw[n:n+m]\n",
    "dmu = dw[n+m:n+m+p]\n",
    "dz = dw[n+m+p:dim]"
   ]
  },
  {
   "cell_type": "code",
   "execution_count": null,
   "metadata": {},
   "outputs": [],
   "source": []
  }
 ],
 "metadata": {
  "kernelspec": {
   "display_name": "Python 3",
   "language": "python",
   "name": "python3"
  },
  "language_info": {
   "codemirror_mode": {
    "name": "ipython",
    "version": 3
   },
   "file_extension": ".py",
   "mimetype": "text/x-python",
   "name": "python",
   "nbconvert_exporter": "python",
   "pygments_lexer": "ipython3",
   "version": "3.11.1"
  }
 },
 "nbformat": 4,
 "nbformat_minor": 2
}
