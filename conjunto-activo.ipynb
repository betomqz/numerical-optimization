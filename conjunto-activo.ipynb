{
 "cells": [
  {
   "cell_type": "markdown",
   "metadata": {},
   "source": [
    "# Métodode Conjunto Activo\n",
    "\n",
    "El problema es minimizar $$\\frac{1}{2}(x_1^2 + x_2^2 + x_3^2) - x_3$$\n",
    "sujeto a\n",
    "$$\\begin{align*}\n",
    "\n",
    "\\end{align*}$$"
   ]
  },
  {
   "cell_type": "code",
   "execution_count": 2,
   "metadata": {},
   "outputs": [],
   "source": [
    "import numpy as np"
   ]
  },
  {
   "cell_type": "code",
   "execution_count": 3,
   "metadata": {},
   "outputs": [],
   "source": [
    "Q = np.identity(3)\n",
    "A = np.array([1., 1., 1.])\n",
    "c = np.array([0., 0., -1.])\n",
    "b = 1.\n",
    "F = np.identity(3)\n",
    "d = np.zeros(3)"
   ]
  },
  {
   "cell_type": "markdown",
   "metadata": {},
   "source": [
    "## Caso 1\n",
    "\n",
    "Iniciamos en el punto $\\hat{x} = \\begin{pmatrix}\n",
    "1 \\\\\n",
    "0 \\\\\n",
    "0\n",
    "\\end{pmatrix}$, en donde el conjunto activo es $\\mathcal{A}(\\hat{x}) = \\{2,3\\}$. Escogemos el conjunto de trabajo $\\mathcal{I} = \\{2\\}$."
   ]
  },
  {
   "cell_type": "code",
   "execution_count": 4,
   "metadata": {},
   "outputs": [],
   "source": [
    "# Caso 1\n",
    "x_hat = np.array([1., 0., 0.])\n",
    "c_hat = np.dot(Q, x_hat) + c\n",
    "yy = np.array([0., 1., 0.])\n",
    "\n",
    "A_hat = np.array([[1., 1., 1.],yy])\n",
    "b_hat = np.zeros(2)"
   ]
  },
  {
   "cell_type": "code",
   "execution_count": 25,
   "metadata": {},
   "outputs": [],
   "source": [
    "# Solución del subproblema\n",
    "K = np.concatenate((Q, A_hat.T),1)\n",
    "T = np.zeros((2,2))\n",
    "M = np.concatenate((A_hat, T), 1)\n",
    "K = np.concatenate((K,M)) # Matriz\n",
    "ld = np.concatenate((-c_hat, np.array([0., 0.]))) # Lado Der"
   ]
  },
  {
   "cell_type": "code",
   "execution_count": 26,
   "metadata": {},
   "outputs": [],
   "source": [
    "w = np.linalg.solve(K, ld)\n",
    "p_star = w[:3]"
   ]
  },
  {
   "cell_type": "code",
   "execution_count": 27,
   "metadata": {},
   "outputs": [
    {
     "data": {
      "text/plain": [
       "array([-5.00000000e-01,  5.00000000e-01,  1.66533454e-16])"
      ]
     },
     "execution_count": 27,
     "metadata": {},
     "output_type": "execute_result"
    }
   ],
   "source": [
    "p_star"
   ]
  },
  {
   "cell_type": "markdown",
   "metadata": {},
   "source": [
    "## Caso 2\n",
    "\n",
    "Iniciamos en el punto $\\hat{x} = \\begin{pmatrix}\n",
    "1 \\\\\n",
    "0 \\\\\n",
    "0\n",
    "\\end{pmatrix}$, en donde el conjunto activo es $\\mathcal{A}(\\hat{x}) = \\{2,3\\}$. Escogemos el conjunto de trabajo $\\mathcal{I} = \\{3\\}$."
   ]
  },
  {
   "cell_type": "code",
   "execution_count": 56,
   "metadata": {},
   "outputs": [],
   "source": [
    "# Caso 2\n",
    "x_hat = np.array([1., 0., 0.])\n",
    "c_hat = np.dot(Q, x_hat) + c\n",
    "yy = np.array([0., 0., 1.])\n",
    "\n",
    "A_hat = np.array([[1., 1., 1.],yy])\n",
    "b_hat = np.zeros(2)"
   ]
  },
  {
   "cell_type": "code",
   "execution_count": 63,
   "metadata": {},
   "outputs": [
    {
     "data": {
      "text/plain": [
       "array([ 1.23259516e-32, -1.00000000e+00,  1.00000000e+00])"
      ]
     },
     "execution_count": 63,
     "metadata": {},
     "output_type": "execute_result"
    }
   ],
   "source": [
    "# Solución del subproblema\n",
    "K = np.concatenate((Q, A_hat.T),1)\n",
    "T = np.zeros((2,2))\n",
    "M = np.concatenate((A_hat, T), 1)\n",
    "K = np.concatenate((K,M)) # Matriz\n",
    "ld = np.concatenate((-c_hat, np.array([0., 0.]))) # Lado Der\n",
    "\n",
    "w = np.linalg.solve(K, ld)\n",
    "p_star = w[:3]\n",
    "p_star"
   ]
  },
  {
   "cell_type": "code",
   "execution_count": 64,
   "metadata": {},
   "outputs": [
    {
     "data": {
      "text/plain": [
       "array([1.23259516e-32, 1.11022302e-16, 1.00000000e+00])"
      ]
     },
     "execution_count": 64,
     "metadata": {},
     "output_type": "execute_result"
    }
   ],
   "source": [
    "# Nuevo punto\n",
    "x_hat += 2*p_star # Ojo: el coeficiente es para escalar el vector p\n",
    "x_hat"
   ]
  },
  {
   "cell_type": "code",
   "execution_count": 62,
   "metadata": {},
   "outputs": [],
   "source": [
    "c_hat = np.dot(Q, x_hat) + c\n",
    "yy = np.array([1., 0., 0.])\n",
    "\n",
    "A_hat = np.array([[1., 1., 1.],yy])"
   ]
  },
  {
   "cell_type": "code",
   "execution_count": 65,
   "metadata": {},
   "outputs": [
    {
     "data": {
      "text/plain": [
       "array([ 1.23259516e-32, -1.00000000e+00,  1.00000000e+00])"
      ]
     },
     "execution_count": 65,
     "metadata": {},
     "output_type": "execute_result"
    }
   ],
   "source": [
    "# Otra solución del subproblema\n",
    "K = np.concatenate((Q, A_hat.T),1)\n",
    "T = np.zeros((2,2))\n",
    "M = np.concatenate((A_hat, T), 1)\n",
    "K = np.concatenate((K,M)) # Matriz\n",
    "ld = np.concatenate((-c_hat, np.array([0., 0.]))) # Lado Der\n",
    "\n",
    "w = np.linalg.solve(K, ld)\n",
    "p_star = w[:3]\n",
    "p_star"
   ]
  },
  {
   "cell_type": "code",
   "execution_count": 66,
   "metadata": {},
   "outputs": [
    {
     "data": {
      "text/plain": [
       "array([ 2.46519033e-32, -1.00000000e+00,  2.00000000e+00])"
      ]
     },
     "execution_count": 66,
     "metadata": {},
     "output_type": "execute_result"
    }
   ],
   "source": [
    "x_hat += p_star\n",
    "x_hat"
   ]
  },
  {
   "cell_type": "markdown",
   "metadata": {},
   "source": [
    "## Caso 3"
   ]
  },
  {
   "cell_type": "code",
   "execution_count": 67,
   "metadata": {},
   "outputs": [
    {
     "data": {
      "text/plain": [
       "array([0., 0., 0.])"
      ]
     },
     "execution_count": 67,
     "metadata": {},
     "output_type": "execute_result"
    }
   ],
   "source": [
    "# Caso 3\n",
    "x_hat = np.array([0., 0., 1.])\n",
    "c_hat = np.dot(Q, x_hat) + c\n",
    "yy = np.array([1., 1., 0.])\n",
    "\n",
    "A_hat = np.array([[1., 1., 1.],yy])\n",
    "b_hat = np.zeros(2)\n",
    "\n",
    "# Solución del subproblema\n",
    "K = np.concatenate((Q, A_hat.T),1)\n",
    "T = np.zeros((2,2))\n",
    "M = np.concatenate((A_hat, T), 1)\n",
    "K = np.concatenate((K,M)) # Matriz\n",
    "ld = np.concatenate((-c_hat, np.array([0., 0.]))) # Lado Der\n",
    "\n",
    "w = np.linalg.solve(K, ld)\n",
    "p_star = w[:3]\n",
    "p_star"
   ]
  },
  {
   "cell_type": "markdown",
   "metadata": {},
   "source": [
    "## Caso 4"
   ]
  },
  {
   "cell_type": "code",
   "execution_count": 77,
   "metadata": {},
   "outputs": [
    {
     "ename": "ValueError",
     "evalue": "all the input arrays must have same number of dimensions, but the array at index 0 has 2 dimension(s) and the array at index 1 has 1 dimension(s)",
     "output_type": "error",
     "traceback": [
      "\u001b[1;31m---------------------------------------------------------------------------\u001b[0m",
      "\u001b[1;31mValueError\u001b[0m                                Traceback (most recent call last)",
      "Cell \u001b[1;32mIn[77], line 10\u001b[0m\n\u001b[0;32m      7\u001b[0m b_hat \u001b[38;5;241m=\u001b[39m np\u001b[38;5;241m.\u001b[39mzeros(\u001b[38;5;241m1\u001b[39m)\n\u001b[0;32m      9\u001b[0m \u001b[38;5;66;03m# Solución del subproblema\u001b[39;00m\n\u001b[1;32m---> 10\u001b[0m K \u001b[38;5;241m=\u001b[39m \u001b[43mnp\u001b[49m\u001b[38;5;241;43m.\u001b[39;49m\u001b[43mconcatenate\u001b[49m\u001b[43m(\u001b[49m\u001b[43m(\u001b[49m\u001b[43mQ\u001b[49m\u001b[43m,\u001b[49m\u001b[43m \u001b[49m\u001b[43mA_hat\u001b[49m\u001b[38;5;241;43m.\u001b[39;49m\u001b[43mT\u001b[49m\u001b[43m)\u001b[49m\u001b[43m,\u001b[49m\u001b[38;5;241;43m0\u001b[39;49m\u001b[43m)\u001b[49m\n\u001b[0;32m     11\u001b[0m T \u001b[38;5;241m=\u001b[39m np\u001b[38;5;241m.\u001b[39marray[\u001b[38;5;241m0.\u001b[39m]\n\u001b[0;32m     12\u001b[0m M \u001b[38;5;241m=\u001b[39m np\u001b[38;5;241m.\u001b[39mconcatenate((A_hat, T), \u001b[38;5;241m1\u001b[39m)\n",
      "File \u001b[1;32m<__array_function__ internals>:200\u001b[0m, in \u001b[0;36mconcatenate\u001b[1;34m(*args, **kwargs)\u001b[0m\n",
      "\u001b[1;31mValueError\u001b[0m: all the input arrays must have same number of dimensions, but the array at index 0 has 2 dimension(s) and the array at index 1 has 1 dimension(s)"
     ]
    }
   ],
   "source": [
    "# Caso 4\n",
    "x_hat = np.array([0.5, 0.5, 0.])\n",
    "c_hat = np.dot(Q, x_hat) + c\n",
    "yy = np.array([]) # escogemos el vacío\n",
    "\n",
    "A_hat = np.array([1., 1., 1.])\n",
    "b_hat = np.zeros(1)\n",
    "\n",
    "# Solución del subproblema\n",
    "K = np.concatenate((Q, A_hat.T),0)\n",
    "T = np.array[0.]\n",
    "M = np.concatenate((A_hat, T), 1)\n",
    "K = np.concatenate((K,M)) # Matriz\n",
    "ld = np.concatenate((-c_hat, np.array([0.]))) # Lado Der\n",
    "\n",
    "w = np.linalg.solve(K, ld)\n",
    "p_star = w[:3]\n",
    "p_star"
   ]
  },
  {
   "cell_type": "code",
   "execution_count": 71,
   "metadata": {},
   "outputs": [
    {
     "data": {
      "text/plain": [
       "array([[1., 0., 0.],\n",
       "       [0., 1., 0.],\n",
       "       [0., 0., 1.]])"
      ]
     },
     "execution_count": 71,
     "metadata": {},
     "output_type": "execute_result"
    }
   ],
   "source": [
    "Q"
   ]
  },
  {
   "cell_type": "code",
   "execution_count": 80,
   "metadata": {},
   "outputs": [
    {
     "data": {
      "text/plain": [
       "array([1., 1., 1.])"
      ]
     },
     "execution_count": 80,
     "metadata": {},
     "output_type": "execute_result"
    }
   ],
   "source": [
    "A_hat.T"
   ]
  },
  {
   "cell_type": "code",
   "execution_count": 81,
   "metadata": {},
   "outputs": [],
   "source": [
    "#TODO\n",
    "# Falta hacer la función qp_directo(Q,A,c,b) para programación cuadrática convexa. Estará en canvas o en la foto del 21/02/2024 19:51"
   ]
  },
  {
   "cell_type": "code",
   "execution_count": null,
   "metadata": {},
   "outputs": [],
   "source": []
  }
 ],
 "metadata": {
  "kernelspec": {
   "display_name": "Python 3",
   "language": "python",
   "name": "python3"
  },
  "language_info": {
   "codemirror_mode": {
    "name": "ipython",
    "version": 3
   },
   "file_extension": ".py",
   "mimetype": "text/x-python",
   "name": "python",
   "nbconvert_exporter": "python",
   "pygments_lexer": "ipython3",
   "version": "3.11.1"
  }
 },
 "nbformat": 4,
 "nbformat_minor": 2
}
