{
 "cells": [
  {
   "cell_type": "markdown",
   "metadata": {},
   "source": [
    "# Laboratorio 2"
   ]
  },
  {
   "cell_type": "code",
   "execution_count": 21,
   "metadata": {},
   "outputs": [],
   "source": [
    "import numpy as np\n",
    "from matplotlib import pyplot"
   ]
  },
  {
   "cell_type": "code",
   "execution_count": 28,
   "metadata": {},
   "outputs": [
    {
     "name": "stdout",
     "output_type": "stream",
     "text": [
      "Rango de A: 5\n"
     ]
    }
   ],
   "source": [
    "m = 5\n",
    "n = 9\n",
    "A = np.random.rand(m,n)\n",
    "b = np.random.randn(m)\n",
    "c = np.ones(n)\n",
    "r = np.linalg.matrix_rank(A)\n",
    "print(f\"Rango de A: {r}\")\n",
    "Q = np.random.rand(n, n)\n",
    "\n",
    "# Encontrar la factorización QR\n",
    "V, R = np.linalg.qr(Q)\n",
    "\n",
    "# Generamos una matriz simétrica positiva def.\n",
    "Q = np.dot(R.T, R)"
   ]
  },
  {
   "cell_type": "markdown",
   "metadata": {},
   "source": [
    "## Descomposición en Valores Singulares"
   ]
  },
  {
   "cell_type": "code",
   "execution_count": 23,
   "metadata": {},
   "outputs": [
    {
     "name": "stdout",
     "output_type": "stream",
     "text": [
      "Dimensiones de Z: 9x4\n"
     ]
    }
   ],
   "source": [
    "(U, S, Vh) = np.linalg.svd(A, full_matrices=True)\n",
    "\n",
    "V = Vh.T\n",
    "Z = V[:,m:n]\n",
    "(m1, n1) = Z.shape\n",
    "\n",
    "print(f\"Dimensiones de Z: {m1}x{n1}\")"
   ]
  },
  {
   "cell_type": "code",
   "execution_count": 24,
   "metadata": {},
   "outputs": [
    {
     "name": "stdout",
     "output_type": "stream",
     "text": [
      "Checamos el espacio nulo:\n",
      "[[ 8.12032626e-19 -7.73980917e-17 -5.33822881e-16 -2.19197578e-16]\n",
      " [ 2.06837691e-18 -3.83006633e-17 -3.84465549e-16 -1.52888509e-16]\n",
      " [-6.96078376e-17  3.18586851e-17 -2.23674746e-16 -9.73157573e-17]\n",
      " [-1.02328766e-16 -3.40111319e-17 -2.87472936e-16 -1.71593614e-16]\n",
      " [ 1.66533454e-16 -2.77555756e-17 -5.55111512e-17 -1.11022302e-16]]\n"
     ]
    }
   ],
   "source": [
    "matriz_ceros = np.dot(A,Z)\n",
    "print(f\"Checamos el espacio nulo:\\n{matriz_ceros}\")"
   ]
  },
  {
   "cell_type": "markdown",
   "metadata": {},
   "source": [
    "## Solución particular de $Ax = b$ con SVD"
   ]
  },
  {
   "cell_type": "code",
   "execution_count": 25,
   "metadata": {},
   "outputs": [],
   "source": [
    "UT = U.T\n",
    "S_inv = np.diag(1/S)\n",
    "S_star = np.concatenate((S_inv, np.zeros((n-m,m))))\n",
    "A_star = np.dot(np.dot(V, S_star), UT)\n",
    "# Lo siguiente es una mejor manera de hacer: \n",
    "# >>> x_p = np.dot(A_star, b)\n",
    "x_p = np.dot(UT, b)\n",
    "x_p = np.dot(S_star, x_p)\n",
    "x_p = np.dot(V, x_p)"
   ]
  },
  {
   "cell_type": "markdown",
   "metadata": {},
   "source": [
    "Es mejor hacerlo por partes porque es computacionalmente más eficiente multiplicar por un vector que por una matriz. Entonces nos basamos en la propiedad de que \n",
    "$$ A^{*} b = (V \\cdot S^{*} \\cdot U^T) b$$"
   ]
  },
  {
   "cell_type": "code",
   "execution_count": 26,
   "metadata": {},
   "outputs": [
    {
     "data": {
      "text/plain": [
       "array([6.38378239e-16, 2.22044605e-16, 8.88178420e-16, 4.99600361e-16,\n",
       "       0.00000000e+00])"
      ]
     },
     "execution_count": 26,
     "metadata": {},
     "output_type": "execute_result"
    }
   ],
   "source": [
    "# Verificar que A*xp = b\n",
    "np.dot(A, x_p) - b"
   ]
  },
  {
   "cell_type": "markdown",
   "metadata": {},
   "source": [
    "## Solución al problema cuadrático"
   ]
  },
  {
   "cell_type": "code",
   "execution_count": null,
   "metadata": {},
   "outputs": [],
   "source": [
    "# TODO"
   ]
  }
 ],
 "metadata": {
  "kernelspec": {
   "display_name": "Python 3",
   "language": "python",
   "name": "python3"
  },
  "language_info": {
   "codemirror_mode": {
    "name": "ipython",
    "version": 3
   },
   "file_extension": ".py",
   "mimetype": "text/x-python",
   "name": "python",
   "nbconvert_exporter": "python",
   "pygments_lexer": "ipython3",
   "version": "3.11.1"
  }
 },
 "nbformat": 4,
 "nbformat_minor": 2
}
