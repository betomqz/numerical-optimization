{
 "cells": [
  {
   "cell_type": "markdown",
   "id": "c5a98180",
   "metadata": {},
   "source": [
    "# Laboratorio 1"
   ]
  },
  {
   "cell_type": "code",
   "execution_count": 1,
   "id": "6207e8e8",
   "metadata": {},
   "outputs": [],
   "source": [
    "import numpy as np\n",
    "import matplotlib.pyplot as plt\n",
    "import math"
   ]
  },
  {
   "cell_type": "code",
   "execution_count": 9,
   "id": "ff622182",
   "metadata": {},
   "outputs": [],
   "source": [
    "# Generar matrices aleatorias\n",
    "m = 100\n",
    "n = 200\n",
    "Q = np.random.rand(n, n)\n",
    "\n",
    "# Encontrar la factorización QR\n",
    "V, R = np.linalg.qr(Q)\n",
    "\n",
    "# Generamos una matriz simétrica positiva def.\n",
    "Q = np.dot(R.T, R)\n",
    "\n",
    "# Generamos la matriz A\n",
    "A = np.random.randn(m, n)\n",
    "c = np.linspace(1,200,200)\n",
    "b = np.ones(100)"
   ]
  },
  {
   "cell_type": "code",
   "execution_count": null,
   "id": "308daca0",
   "metadata": {},
   "outputs": [],
   "source": []
  }
 ],
 "metadata": {
  "kernelspec": {
   "display_name": "Python 3 (ipykernel)",
   "language": "python",
   "name": "python3"
  },
  "language_info": {
   "codemirror_mode": {
    "name": "ipython",
    "version": 3
   },
   "file_extension": ".py",
   "mimetype": "text/x-python",
   "name": "python",
   "nbconvert_exporter": "python",
   "pygments_lexer": "ipython3",
   "version": "3.11.1"
  }
 },
 "nbformat": 4,
 "nbformat_minor": 5
}
