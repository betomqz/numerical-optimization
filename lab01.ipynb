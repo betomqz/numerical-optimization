{
 "cells": [
  {
   "cell_type": "markdown",
   "id": "9eec60d4",
   "metadata": {},
   "source": [
    "# Laboratorio 1"
   ]
  },
  {
   "cell_type": "code",
   "execution_count": 1,
   "id": "ff1abe74",
   "metadata": {},
   "outputs": [],
   "source": [
    "import numpy as np\n",
    "import matplotlib.pyplot as plt\n",
    "import math"
   ]
  },
  {
   "cell_type": "code",
   "execution_count": 2,
   "id": "ea79e61b",
   "metadata": {},
   "outputs": [],
   "source": [
    "# Generar matrices aleatorias\n",
    "m = 100\n",
    "n = 200\n",
    "Q = np.random.rand(n, n)\n",
    "\n",
    "# Encontrar la factorización QR\n",
    "V, R = np.linalg.qr(Q)\n",
    "\n",
    "# Generamos una matriz simétrica positiva def.\n",
    "Q = np.dot(R.T, R)\n",
    "\n",
    "# Generamos la matriz A\n",
    "A = np.random.randn(m, n)\n",
    "c = np.linspace(1,200,200)\n",
    "b = np.ones(100)"
   ]
  },
  {
   "cell_type": "code",
   "execution_count": 3,
   "id": "c8d54246",
   "metadata": {},
   "outputs": [],
   "source": [
    "# Función a optimizar\n",
    "def f(x):\n",
    "    return np.dot(x.T, np.dot(Q, x)) + np.dot(c.T, x)"
   ]
  },
  {
   "cell_type": "markdown",
   "id": "560f9eb6",
   "metadata": {},
   "source": [
    "## Técnica 1: Método directo"
   ]
  },
  {
   "cell_type": "code",
   "execution_count": 4,
   "id": "e6423a8e",
   "metadata": {},
   "outputs": [],
   "source": [
    "# Concatenar bloques de matrices\n",
    "AT = A.T\n",
    "K1 = np.concatenate((Q, AT), axis=1)\n",
    "K2 = np.concatenate((A, np.zeros([m, m])), axis=1)\n",
    "K = np.concatenate((K1, K2))\n",
    "\n",
    "# Concatenar el lado derecho\n",
    "d = np.concatenate((-c, b))"
   ]
  },
  {
   "cell_type": "code",
   "execution_count": 5,
   "id": "254f7a91",
   "metadata": {},
   "outputs": [
    {
     "name": "stdout",
     "output_type": "stream",
     "text": [
      "Norma: 10048.304115505383, Determinante: inf\n"
     ]
    },
    {
     "name": "stderr",
     "output_type": "stream",
     "text": [
      "D:\\Python\\Python311\\Lib\\site-packages\\numpy\\linalg\\linalg.py:2139: RuntimeWarning: overflow encountered in det\n",
      "  r = _umath_linalg.det(a, signature=signature)\n"
     ]
    }
   ],
   "source": [
    "# Calcular determinante y norma de K\n",
    "det_K = np.linalg.det(K)\n",
    "norm_K = np.linalg.norm(K)\n",
    "print(f\"Norma: {norm_K}, Determinante: {det_K}\")"
   ]
  },
  {
   "cell_type": "code",
   "execution_count": 6,
   "id": "5cd06d5c",
   "metadata": {},
   "outputs": [],
   "source": [
    "# Resolver el sistema lineal\n",
    "w = np.linalg.solve(K,d)\n",
    "\n",
    "# Extraemos del vector las primeras n=200 componentes\n",
    "# para obtener la solución de x\n",
    "solx1 = w[:200]"
   ]
  },
  {
   "cell_type": "code",
   "execution_count": 7,
   "id": "074c111e",
   "metadata": {},
   "outputs": [
    {
     "data": {
      "text/plain": [
       "-54.75545443734154"
      ]
     },
     "execution_count": 7,
     "metadata": {},
     "output_type": "execute_result"
    }
   ],
   "source": [
    "f(solx1)"
   ]
  },
  {
   "cell_type": "markdown",
   "id": "1fcd02e6",
   "metadata": {},
   "source": [
    "## Técnica 2: Método del rango\n",
    "\n",
    "No olvidar que para este método suponemos que $Q$ es simétrica y positiva definida"
   ]
  },
  {
   "cell_type": "code",
   "execution_count": 8,
   "id": "a6134080",
   "metadata": {},
   "outputs": [],
   "source": [
    "# Calcular inversa de Q\n",
    "Q_inv = np.linalg.inv(Q)\n",
    "\n",
    "# Construir sistema lineal\n",
    "A2 = np.dot(A, np.dot(Q_inv, AT))     # lado izq\n",
    "b2 = -(b+np.dot(A, np.dot(Q_inv, c))) # lado der"
   ]
  },
  {
   "cell_type": "code",
   "execution_count": 9,
   "id": "e805a1b4",
   "metadata": {},
   "outputs": [],
   "source": [
    "# Resolver el sistema lineal\n",
    "lmbda = np.linalg.solve(A2, b2)\n",
    "\n",
    "# Obtener el valor de x\n",
    "solx2 = -np.dot(Q_inv, c+np.dot(AT,lmbda))"
   ]
  },
  {
   "cell_type": "code",
   "execution_count": 10,
   "id": "f7089cab",
   "metadata": {},
   "outputs": [
    {
     "data": {
      "text/plain": [
       "-54.75545439067355"
      ]
     },
     "execution_count": 10,
     "metadata": {},
     "output_type": "execute_result"
    }
   ],
   "source": [
    "f(solx2)"
   ]
  },
  {
   "cell_type": "markdown",
   "id": "1341acae",
   "metadata": {},
   "source": [
    "## Comparación entre soluciones"
   ]
  },
  {
   "cell_type": "code",
   "execution_count": 11,
   "id": "3e22cfb2",
   "metadata": {},
   "outputs": [
    {
     "data": {
      "text/plain": [
       "1.0975259104684316e-09"
      ]
     },
     "execution_count": 11,
     "metadata": {},
     "output_type": "execute_result"
    }
   ],
   "source": [
    "# Diferencia de x\n",
    "np.linalg.norm(solx1 - solx2)"
   ]
  },
  {
   "cell_type": "code",
   "execution_count": 12,
   "id": "ceece580",
   "metadata": {},
   "outputs": [
    {
     "data": {
      "text/plain": [
       "4.6667992137372494e-08"
      ]
     },
     "execution_count": 12,
     "metadata": {},
     "output_type": "execute_result"
    }
   ],
   "source": [
    "# Diferencia de f(x)\n",
    "abs(f(solx1) - f(solx2))"
   ]
  }
 ],
 "metadata": {
  "kernelspec": {
   "display_name": "Python 3 (ipykernel)",
   "language": "python",
   "name": "python3"
  },
  "language_info": {
   "codemirror_mode": {
    "name": "ipython",
    "version": 3
   },
   "file_extension": ".py",
   "mimetype": "text/x-python",
   "name": "python",
   "nbconvert_exporter": "python",
   "pygments_lexer": "ipython3",
   "version": "3.11.1"
  }
 },
 "nbformat": 4,
 "nbformat_minor": 5
}
